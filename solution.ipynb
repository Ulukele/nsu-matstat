{
  "cells": [
    {
      "cell_type": "markdown",
      "metadata": {
        "id": "view-in-github",
        "colab_type": "text"
      },
      "source": [
        "<a href=\"https://colab.research.google.com/github/Ulukele/nsu-matstat/blob/main/solution.ipynb\" target=\"_parent\"><img src=\"https://colab.research.google.com/assets/colab-badge.svg\" alt=\"Open In Colab\"/></a>"
      ]
    },
    {
      "cell_type": "code",
      "execution_count": null,
      "metadata": {
        "id": "oRNeTjs74k1M"
      },
      "outputs": [],
      "source": [
        "import numpy as np\n",
        "import math"
      ]
    },
    {
      "cell_type": "code",
      "execution_count": null,
      "metadata": {
        "id": "NTT73ng7d8EJ"
      },
      "outputs": [],
      "source": [
        "# Для более подробного аналиа графиков\n",
        "from google.colab import output\n",
        "output.enable_custom_widget_manager()"
      ]
    },
    {
      "cell_type": "markdown",
      "metadata": {
        "id": "V06IpxRyYUtn"
      },
      "source": [
        "## Data"
      ]
    },
    {
      "cell_type": "code",
      "execution_count": null,
      "metadata": {
        "id": "Aa5QbiSDahPE"
      },
      "outputs": [],
      "source": [
        "data_1 = [\n",
        "        1.319, 0.913, 0.689, 2.036, 3.621, 3.201, 3.984, 1.456, 1.551, 1.116,\n",
        "        2.906, 4.224, 2.373, 2.378, 2.451, 0.348, 2.456, 1.993, -0.561, 2.544\n",
        "        ]"
      ]
    },
    {
      "cell_type": "code",
      "execution_count": null,
      "metadata": {
        "id": "utzunJRBbmLq"
      },
      "outputs": [],
      "source": [
        "data_2 = [\n",
        "          0.437, 3.138, 2.045, 2.638, 3.582, 1.273, 2.55, 1.538, 2.354, 2.755,\n",
        "          -0.410, 1.516, 2.203, 1.681, 1.793, 2.569, 2.675, 2.592, 2.803, 1.975,\n",
        "          0.59, 1.401, -0.105, 4.274, 2.307, 3.103, 0.333, 1.292, 3.284, 1.795\n",
        "]"
      ]
    },
    {
      "cell_type": "code",
      "execution_count": null,
      "metadata": {
        "id": "B1V7Gg4sfOYs"
      },
      "outputs": [],
      "source": [
        "data_3 = [\n",
        "          0.595, 0.456, 0.51, 0.242, 0.967, 0.005, 0.939, 0.918, 0.634, 0.961,\n",
        "          0.815, 0.728, 0.63, 0.593, 0.728, 0.619, 0.375, 0.1, 0.954, 0.04,\n",
        "          0.256, 0.968, 0.379, 0.55, 0.417, 0.33, 0.549, 0.959, 0.103, 0.163\n",
        "]"
      ]
    },
    {
      "cell_type": "markdown",
      "metadata": {
        "id": "KxG5nYwp4bX9"
      },
      "source": [
        "## Task 1"
      ]
    },
    {
      "cell_type": "code",
      "execution_count": null,
      "metadata": {
        "id": "YUuBj1CR7WDP"
      },
      "outputs": [],
      "source": [
        "import scipy.stats"
      ]
    },
    {
      "cell_type": "code",
      "execution_count": null,
      "metadata": {
        "colab": {
          "base_uri": "https://localhost:8080/"
        },
        "id": "X9L3XFTemj0A",
        "outputId": "f142c9a4-b330-4e3f-a998-da5d08afcbfe"
      },
      "outputs": [
        {
          "output_type": "execute_result",
          "data": {
            "text/plain": [
              "array([ 1.319,  0.913,  0.689,  2.036,  3.621,  3.201,  3.984,  1.456,\n",
              "        1.551,  1.116,  2.906,  4.224,  2.373,  2.378,  2.451,  0.348,\n",
              "        2.456,  1.993, -0.561,  2.544,  0.437,  3.138,  2.045,  2.638,\n",
              "        3.582,  1.273,  2.55 ,  1.538,  2.354,  2.755, -0.41 ,  1.516,\n",
              "        2.203,  1.681,  1.793,  2.569,  2.675,  2.592,  2.803,  1.975,\n",
              "        0.59 ,  1.401, -0.105,  4.274,  2.307,  3.103,  0.333,  1.292,\n",
              "        3.284,  1.795])"
            ]
          },
          "metadata": {},
          "execution_count": 25
        }
      ],
      "source": [
        "data = np.array(data_1 + data_2)\n",
        "interval_values = [0.01, 0.05, 0.1]\n",
        "data"
      ]
    },
    {
      "cell_type": "code",
      "execution_count": null,
      "metadata": {
        "colab": {
          "base_uri": "https://localhost:8080/"
        },
        "id": "-Pe4IAj65LdQ",
        "outputId": "c3157b04-1efc-4862-dc2e-a61f0712b18d"
      },
      "outputs": [
        {
          "output_type": "execute_result",
          "data": {
            "text/plain": [
              "(2.0195800000000004, 1.2659882835999998)"
            ]
          },
          "metadata": {},
          "execution_count": 26
        }
      ],
      "source": [
        "n = data.size\n",
        "mean = data.mean()\n",
        "S_2 = ((data - mean)** 2).mean()\n",
        "mean, S_2"
      ]
    },
    {
      "cell_type": "code",
      "execution_count": null,
      "metadata": {
        "colab": {
          "base_uri": "https://localhost:8080/"
        },
        "id": "5_V6zqWv6gRF",
        "outputId": "3c7251f8-e182-49c3-e5ee-b6c7f47b071c"
      },
      "outputs": [
        {
          "output_type": "stream",
          "name": "stdout",
          "text": [
            "Доверительный интервал (уровня 0.99):  (1.6375227723200798, 2.401637227679921)\n",
            "Доверительный интервал (уровня 0.95):  (1.7288703612618417, 2.3102896387381593)\n",
            "Доверительный интервал (уровня 0.9):  (1.775608780406174, 2.2635512195938268)\n"
          ]
        }
      ],
      "source": [
        "# a)\n",
        "\n",
        "sigma = math.sqrt(1.1)\n",
        "\n",
        "def d_interval(e_):\n",
        "  t_ = scipy.stats.norm.ppf(1 - e_ / 2)\n",
        "  left = mean - sigma * t_ / math.sqrt(n)\n",
        "  right = mean + sigma * t_ / math.sqrt(n)\n",
        "  return left, right\n",
        "\n",
        "for inter_value in interval_values:\n",
        "  print(f\"Доверительный интервал (уровня {1 - inter_value}): \", d_interval(inter_value))"
      ]
    },
    {
      "cell_type": "code",
      "execution_count": null,
      "metadata": {
        "colab": {
          "base_uri": "https://localhost:8080/"
        },
        "id": "JIGkRxTTBLiL",
        "outputId": "505222d9-2fba-461f-8b8e-c37e4bb9b119"
      },
      "outputs": [
        {
          "output_type": "stream",
          "name": "stdout",
          "text": [
            "Доверительный интервал (уровня 0.99):  (1.5888116224760844, 2.450348377523916)\n",
            "Доверительный интервал (уровня 0.95):  (1.6965662028161208, 2.3425937971838797)\n",
            "Доверительный интервал (уровня 0.9):  (1.7500956530221194, 2.2890643469778813)\n"
          ]
        }
      ],
      "source": [
        "# б)\n",
        "\n",
        "S_0 = math.sqrt(n * S_2 / (n - 1))\n",
        "\n",
        "def d_interval(e_):\n",
        "  t_ = scipy.stats.t.ppf(1 - e_ / 2, n - 1)\n",
        "  left = mean - t_ * S_0 / math.sqrt(n)\n",
        "  right = mean + t_ * S_0 / math.sqrt(n)\n",
        "  return left, right\n",
        "\n",
        "for inter_value in interval_values:\n",
        "  print(f\"Доверительный интервал (уровня {1 - inter_value}): \", d_interval(inter_value))\n"
      ]
    },
    {
      "cell_type": "code",
      "execution_count": null,
      "metadata": {
        "colab": {
          "base_uri": "https://localhost:8080/"
        },
        "id": "vxvmtXZOIjQk",
        "outputId": "8e19c1ac-1d31-4f16-8045-7e65e68804f9"
      },
      "outputs": [
        {
          "output_type": "stream",
          "name": "stdout",
          "text": [
            "Доверительный интервал (уровня 0.99):  (0.7965605755752314, 2.2621253651440454)\n",
            "Доверительный интервал (уровня 0.95):  (0.8865641270478684, 1.9568523442005683)\n",
            "Доверительный интервал (уровня 0.9):  (0.9379862892212133, 1.8213705152195017)\n"
          ]
        }
      ],
      "source": [
        "# в)\n",
        "\n",
        "alpha = 2\n",
        "sum_quadr = ((data - alpha) ** 2).sum()\n",
        "\n",
        "def d_interval(e_):\n",
        "  t_1_ = scipy.stats.chi2.ppf(e_ / 2, n)\n",
        "  t_2_ = scipy.stats.chi2.ppf(1 - e_ / 2, n)\n",
        "\n",
        "  left = sum_quadr / t_2_\n",
        "  right = sum_quadr / t_1_\n",
        "  return left, right\n",
        "\n",
        "for inter_value in interval_values:\n",
        "  print(f\"Доверительный интервал (уровня {1 - inter_value}): \", d_interval(inter_value))\n"
      ]
    },
    {
      "cell_type": "code",
      "execution_count": null,
      "metadata": {
        "colab": {
          "base_uri": "https://localhost:8080/"
        },
        "id": "GBhmf98CNRyx",
        "outputId": "052039ec-577b-4727-dd6f-454d5a958edf"
      },
      "outputs": [
        {
          "output_type": "stream",
          "name": "stdout",
          "text": [
            "Доверительный интервал (уровня 0.99):  (0.8091376868256887, 2.322969771439006)\n",
            "Доверительный интервал (уровня 0.95):  (0.9014132520539905, 2.0060079783411893)\n",
            "Доверительный интервал (уровня 0.9):  (0.9541860629503212, 1.8655715893532943)\n"
          ]
        }
      ],
      "source": [
        "# г)\n",
        "\n",
        "n_mean_quadr = n * S_2\n",
        "\n",
        "def d_interval(e_):\n",
        "  t_1_ = scipy.stats.chi2.ppf(e_ / 2, n - 1)\n",
        "  t_2_ = scipy.stats.chi2.ppf(1 - e_ / 2, n - 1)\n",
        "  left = n_mean_quadr / t_2_\n",
        "  right = n_mean_quadr / t_1_\n",
        "  return left, right\n",
        "\n",
        "for inter_value in interval_values:\n",
        "  print(f\"Доверительный интервал (уровня {1 - inter_value}): \", d_interval(inter_value))\n"
      ]
    },
    {
      "cell_type": "markdown",
      "metadata": {
        "id": "KHphy523ORT3"
      },
      "source": [
        "## Task 2"
      ]
    },
    {
      "cell_type": "code",
      "execution_count": null,
      "metadata": {
        "id": "fWKpp_RqVFmp"
      },
      "outputs": [],
      "source": [
        "import matplotlib.pyplot as plt"
      ]
    },
    {
      "cell_type": "code",
      "execution_count": null,
      "metadata": {
        "colab": {
          "base_uri": "https://localhost:8080/"
        },
        "id": "HU7jHf6mOOd9",
        "outputId": "4b25fb61-3e95-44e0-c50f-d1dea2144400"
      },
      "outputs": [
        {
          "output_type": "execute_result",
          "data": {
            "text/plain": [
              "array([0.005, 0.04 , 0.1  , 0.103, 0.163, 0.242, 0.256, 0.33 , 0.375,\n",
              "       0.379, 0.417, 0.456, 0.51 , 0.549, 0.55 , 0.593, 0.595, 0.619,\n",
              "       0.63 , 0.634, 0.728, 0.728, 0.815, 0.918, 0.939, 0.954, 0.959,\n",
              "       0.961, 0.967, 0.968])"
            ]
          },
          "metadata": {},
          "execution_count": 32
        }
      ],
      "source": [
        "data = np.array(sorted(data_3))\n",
        "n = data.size\n",
        "data"
      ]
    },
    {
      "cell_type": "code",
      "execution_count": null,
      "metadata": {
        "colab": {
          "base_uri": "https://localhost:8080/"
        },
        "id": "YY0zr223RMjx",
        "outputId": "bbf19f62-398e-4f53-f5d0-2ce1d3b66b9e"
      },
      "outputs": [
        {
          "output_type": "stream",
          "name": "stdout",
          "text": [
            "f( 0.005 ) = 0 / 30\n",
            "f( 0.04 ) = 1 / 30\n",
            "f( 0.1 ) = 2 / 30\n",
            "f( 0.103 ) = 3 / 30\n",
            "f( 0.163 ) = 4 / 30\n",
            "f( 0.242 ) = 5 / 30\n",
            "f( 0.256 ) = 6 / 30\n",
            "f( 0.33 ) = 7 / 30\n",
            "f( 0.375 ) = 8 / 30\n",
            "f( 0.379 ) = 9 / 30\n",
            "f( 0.417 ) = 10 / 30\n",
            "f( 0.456 ) = 11 / 30\n",
            "f( 0.51 ) = 12 / 30\n",
            "f( 0.549 ) = 13 / 30\n",
            "f( 0.55 ) = 14 / 30\n",
            "f( 0.593 ) = 15 / 30\n",
            "f( 0.595 ) = 16 / 30\n",
            "f( 0.619 ) = 17 / 30\n",
            "f( 0.63 ) = 18 / 30\n",
            "f( 0.634 ) = 19 / 30\n",
            "f( 0.728 ) = 20 / 30\n",
            "f( 0.728 ) = 20 / 30\n",
            "f( 0.815 ) = 22 / 30\n",
            "f( 0.918 ) = 23 / 30\n",
            "f( 0.939 ) = 24 / 30\n",
            "f( 0.954 ) = 25 / 30\n",
            "f( 0.959 ) = 26 / 30\n",
            "f( 0.961 ) = 27 / 30\n",
            "f( 0.967 ) = 28 / 30\n",
            "f( 0.968 ) = 29 / 30\n"
          ]
        }
      ],
      "source": [
        "\n",
        "counts = lambda t: (data < t).sum()\n",
        "empiric = lambda t: (data < t).sum() / n\n",
        "\n",
        "x = np.linspace(-0.01, 1.01, 10000)\n",
        "empiric_data = [empiric(x_) for x_ in x]\n",
        "empiric_dots = [(x_, f\"{counts(x_)} / {n}\") for x_ in sorted(data)]\n",
        "empiric_dots, n\n",
        "for x_, val in empiric_dots:\n",
        "  print(f\"f( {x_} ) = {val}\")"
      ]
    },
    {
      "cell_type": "code",
      "execution_count": null,
      "metadata": {
        "colab": {
          "base_uri": "https://localhost:8080/",
          "height": 395,
          "referenced_widgets": [
            "3fe38faef82e4c2e82b71eb7f3e40aeb",
            "734540f1f20d4211b4698c5918b9f134",
            "025b3f9f54a54434a1c79a330f8bb68c",
            "d8e28b9b94a54f8a94752305f067838b",
            "af5254ac53ee427aa38c0cea61ac7b2f",
            "e1c26855f0084298aba286fc3793f45f"
          ]
        },
        "id": "9FkXV0MwH_9_",
        "outputId": "2d3bcfe2-38de-4334-bba8-ff056d771365"
      },
      "outputs": [
        {
          "output_type": "execute_result",
          "data": {
            "text/plain": [
              "<module 'matplotlib.pyplot' from '/usr/local/lib/python3.7/dist-packages/matplotlib/pyplot.py'>"
            ]
          },
          "metadata": {},
          "execution_count": 34
        },
        {
          "output_type": "display_data",
          "data": {
            "text/plain": [
              "Canvas(toolbar=Toolbar(toolitems=[('Home', 'Reset original view', 'home', 'home'), ('Back', 'Back to previous …"
            ],
            "image/png": "[encoded data removed]",
            "text/html": [
              "\n",
              "            <div style=\"display: inline-block;\">\n",
              "                <div class=\"jupyter-widgets widget-label\" style=\"text-align: center;\">\n",
              "                    Figure\n",
              "                </div>\n",
              "                <img src='data:image/png;base64,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' width=432.0/>\n",
              "            </div>\n",
              "        "
            ],
            "application/vnd.jupyter.widget-view+json": {
              "version_major": 2,
              "version_minor": 0,
              "model_id": "3fe38faef82e4c2e82b71eb7f3e40aeb"
            }
          },
          "metadata": {
            "application/vnd.jupyter.widget-view+json": {
              "colab": {
                "custom_widget_manager": {
                  "url": "https://ssl.gstatic.com/colaboratory-static/widgets/colab-cdn-widget-manager/a8874ba6619b6106/manager.min.js"
                }
              }
            }
          }
        }
      ],
      "source": [
        "%matplotlib widget\n",
        "\n",
        "plt.plot(x, empiric_data)\n",
        "plt.grid()\n",
        "plt"
      ]
    },
    {
      "cell_type": "code",
      "execution_count": null,
      "metadata": {
        "colab": {
          "base_uri": "https://localhost:8080/",
          "height": 395,
          "referenced_widgets": [
            "68651148a5b64b15a2aeae6d639575fb",
            "a176eecb0c5d4e6196793353e2b51ac3",
            "5658fdf90c38478e82f977e098c82824",
            "c6c05620115d414a8c94f0b7ea53b1eb"
          ]
        },
        "id": "wYMLHa-yWJqx",
        "outputId": "e663d9c5-0bae-4bf3-f533-0eaae4d9f168"
      },
      "outputs": [
        {
          "output_type": "execute_result",
          "data": {
            "text/plain": [
              "<module 'matplotlib.pyplot' from '/usr/local/lib/python3.7/dist-packages/matplotlib/pyplot.py'>"
            ]
          },
          "metadata": {},
          "execution_count": 35
        },
        {
          "output_type": "display_data",
          "data": {
            "text/plain": [
              "Canvas(toolbar=Toolbar(toolitems=[('Home', 'Reset original view', 'home', 'home'), ('Back', 'Back to previous …"
            ],
            "image/png": "[encoded data removed]",
            "text/html": [
              "\n",
              "            <div style=\"display: inline-block;\">\n",
              "                <div class=\"jupyter-widgets widget-label\" style=\"text-align: center;\">\n",
              "                    Figure\n",
              "                </div>\n",
              "                <img src='data:image/png;base64,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' width=432.0/>\n",
              "            </div>\n",
              "        "
            ],
            "application/vnd.jupyter.widget-view+json": {
              "version_major": 2,
              "version_minor": 0,
              "model_id": "68651148a5b64b15a2aeae6d639575fb"
            }
          },
          "metadata": {
            "application/vnd.jupyter.widget-view+json": {
              "colab": {
                "custom_widget_manager": {
                  "url": "https://ssl.gstatic.com/colaboratory-static/widgets/colab-cdn-widget-manager/a8874ba6619b6106/manager.min.js"
                }
              }
            }
          }
        }
      ],
      "source": [
        "%matplotlib widget\n",
        "\n",
        "plt.hist(data, color = '#ffaadd', edgecolor = 'black', bins = 5, density = 1)\n",
        "plt"
      ]
    },
    {
      "cell_type": "code",
      "execution_count": null,
      "metadata": {
        "colab": {
          "base_uri": "https://localhost:8080/",
          "height": 395,
          "referenced_widgets": [
            "1ffede64738f41ba809d19b3ad101d0f",
            "648daf8a68c64c5a8bdfc4c2e8378035",
            "67ec95ebc601497b80aab96e4e4117f8",
            "18f114893d2e4b7f8fe0e6803fbfd8a2",
            "67bb5f704642446197822217daf0e223",
            "f0b82fdffe6c48ddb773bb6aebb1901d"
          ]
        },
        "id": "PCKOUsUZaTnl",
        "outputId": "862d83f5-9019-4c67-fb42-79e44dca754e"
      },
      "outputs": [
        {
          "output_type": "execute_result",
          "data": {
            "text/plain": [
              "<module 'matplotlib.pyplot' from '/usr/local/lib/python3.7/dist-packages/matplotlib/pyplot.py'>"
            ]
          },
          "metadata": {},
          "execution_count": 36
        },
        {
          "output_type": "display_data",
          "data": {
            "text/plain": [
              "Canvas(toolbar=Toolbar(toolitems=[('Home', 'Reset original view', 'home', 'home'), ('Back', 'Back to previous …"
            ],
            "image/png": "[encoded data removed]",
            "text/html": [
              "\n",
              "            <div style=\"display: inline-block;\">\n",
              "                <div class=\"jupyter-widgets widget-label\" style=\"text-align: center;\">\n",
              "                    Figure\n",
              "                </div>\n",
              "                <img src='data:image/png;base64,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' width=432.0/>\n",
              "            </div>\n",
              "        "
            ],
            "application/vnd.jupyter.widget-view+json": {
              "version_major": 2,
              "version_minor": 0,
              "model_id": "1ffede64738f41ba809d19b3ad101d0f"
            }
          },
          "metadata": {
            "application/vnd.jupyter.widget-view+json": {
              "colab": {
                "custom_widget_manager": {
                  "url": "https://ssl.gstatic.com/colaboratory-static/widgets/colab-cdn-widget-manager/a8874ba6619b6106/manager.min.js"
                }
              }
            }
          }
        }
      ],
      "source": [
        "# Критерий Колмогорова\n",
        "\n",
        "%matplotlib widget\n",
        "\n",
        "plt.plot(x, empiric_data)\n",
        "plt.plot(x, x)\n",
        "\n",
        "plt"
      ]
    },
    {
      "cell_type": "code",
      "execution_count": null,
      "metadata": {
        "colab": {
          "base_uri": "https://localhost:8080/"
        },
        "id": "1VOPydEDe9Ut",
        "outputId": "f4545d3a-630c-4e1c-d884-06b85761b79d"
      },
      "outputs": [
        {
          "output_type": "stream",
          "name": "stdout",
          "text": [
            "Dn = 0.15132013201320127. Dn*sqrt=0.8288144970828996 Достигается в x = 0.917986798679868\n"
          ]
        }
      ],
      "source": [
        "diverse = lambda t: abs(empiric(t) - t)\n",
        "\n",
        "diverse_data = np.array([diverse(x_) for x_ in x])\n",
        "\n",
        "diverse_argmax = diverse_data.argmax()\n",
        "\n",
        "dn = diverse_data[diverse_argmax]\n",
        "x_val = x[diverse_argmax]\n",
        "\n",
        "print(f\"Dn = {dn}. Dn*sqrt={dn * math.sqrt(n)} Достигается в x = {x_val}\")"
      ]
    },
    {
      "cell_type": "code",
      "execution_count": null,
      "metadata": {
        "colab": {
          "base_uri": "https://localhost:8080/"
        },
        "id": "xmGl9kFGhYVF",
        "outputId": "2771bed9-96c4-4812-923f-c6d67451bb51"
      },
      "outputs": [
        {
          "output_type": "stream",
          "name": "stdout",
          "text": [
            "Гипотеза принимается\n"
          ]
        },
        {
          "output_type": "execute_result",
          "data": {
            "text/plain": [
              "(0.8288144970828996, 1.072749174939648)"
            ]
          },
          "metadata": {},
          "execution_count": 38
        }
      ],
      "source": [
        "e = 0.2\n",
        "q = scipy.stats.kstwobign.ppf(1 - e)\n",
        "\n",
        "if (math.sqrt(n) * dn < q):\n",
        "  print('Гипотеза принимается')\n",
        "else:\n",
        "  print('Гипотеза не принимается')\n",
        "math.sqrt(n) * dn, q "
      ]
    },
    {
      "cell_type": "code",
      "execution_count": null,
      "metadata": {
        "colab": {
          "base_uri": "https://localhost:8080/"
        },
        "id": "GcHs79pqiwir",
        "outputId": "cdbec621-3d30-40a9-e87e-c175893036aa"
      },
      "outputs": [
        {
          "output_type": "stream",
          "name": "stdout",
          "text": [
            "Гипотеза принимается\n"
          ]
        },
        {
          "output_type": "execute_result",
          "data": {
            "text/plain": [
              "(1.4666666666666668, 5.9886166940042465)"
            ]
          },
          "metadata": {},
          "execution_count": 39
        }
      ],
      "source": [
        "# Критерий Хи квадрат\n",
        "\n",
        "deltas_num = 5\n",
        "deltas = np.linspace(0, 1, deltas_num)\n",
        "p = deltas[1] - deltas[0]\n",
        "\n",
        "v = np.array([\n",
        "     np.count_nonzero((delta <= data) & (data <= delta + p))\n",
        "     for delta in deltas[:-1]\n",
        "     ])\n",
        "\n",
        "d_data = ((v - n * p) ** 2) / (n * p)\n",
        "d = d_data.sum()\n",
        "\n",
        "c = scipy.stats.chi2.ppf(1 - e, v.size)\n",
        "\n",
        "if (d < c):\n",
        "  print('Гипотеза принимается')\n",
        "else:\n",
        "  print('Гипотеза не принимается')\n",
        "\n",
        "d, c"
      ]
    },
    {
      "cell_type": "markdown",
      "metadata": {
        "id": "kri5811XtfaJ"
      },
      "source": [
        "## Task 3"
      ]
    },
    {
      "cell_type": "code",
      "execution_count": null,
      "metadata": {
        "id": "--EDhMX_tjzn"
      },
      "outputs": [],
      "source": [
        "data_a = np.array(data_1)\n",
        "data_b = np.array(data_2)"
      ]
    },
    {
      "cell_type": "code",
      "execution_count": null,
      "metadata": {
        "colab": {
          "base_uri": "https://localhost:8080/"
        },
        "id": "bcttInKsYLdG",
        "outputId": "f6732a5d-3edd-48e7-d1a0-614e50d6d824"
      },
      "outputs": [
        {
          "name": "stdout",
          "output_type": "stream",
          "text": [
            "Гипотеза принимается\n"
          ]
        },
        {
          "data": {
            "text/plain": [
              "(2.0499, 1.999366666666667, 1.2627551001596926)"
            ]
          },
          "execution_count": 24,
          "metadata": {},
          "output_type": "execute_result"
        }
      ],
      "source": [
        "# а)\n",
        "\n",
        "mean_a = data_a.mean()\n",
        "mean_b = data_b.mean()\n",
        "\n",
        "S_a_2 = ((data_a - mean_a) ** 2).mean()\n",
        "S_b_2 = ((data_b - mean_b) ** 2).mean()\n",
        "\n",
        "e = 0.2\n",
        "\n",
        "n_a = len(data_a)\n",
        "n_b = len(data_b)\n",
        "\n",
        "t_1 = scipy.stats.f.ppf(e / 2, n_a - 1, n_b -1)\n",
        "t_2 = scipy.stats.f.ppf(1 - e / 2, n_a - 1, n_b -1)\n",
        "\n",
        "k = (n_a * S_a_2  * (n_b - 1)) / (n_b * S_b_2  * (n_a - 1))\n",
        "\n",
        "if ((k > t_1) and (k < t_2)):\n",
        "  print('Гипотеза принимается')\n",
        "else:\n",
        "  print('Гипотеза не принимается')\n",
        "\n",
        "mean_a, mean_b, k"
      ]
    },
    {
      "cell_type": "code",
      "execution_count": null,
      "metadata": {
        "colab": {
          "base_uri": "https://localhost:8080/"
        },
        "id": "_9oa5ZU_bIaH",
        "outputId": "a8ff1324-feb2-4f11-95f9-61052527f5ca"
      },
      "outputs": [
        {
          "name": "stdout",
          "output_type": "stream",
          "text": [
            "Гипотеза принимается\n"
          ]
        },
        {
          "data": {
            "text/plain": [
              "(1.2994388784066297, 0.15247354225576804)"
            ]
          },
          "execution_count": 25,
          "metadata": {},
          "output_type": "execute_result"
        }
      ],
      "source": [
        "# б)\n",
        "\n",
        "e = 0.2\n",
        "\n",
        "q = scipy.stats.t.ppf(1 - e / 2, n_a + n_b - 2)  \n",
        "psi = (mean_a - mean_b) / ((math.sqrt(1 / n_a + 1 / n_b)) * (math.sqrt((n_a * S_a_2 + n_b * S_b_2) / (n_a + n_b - 2))))\n",
        "\n",
        "if ((psi > -q) and (psi < q)):\n",
        "  print(\"Гипотеза принимается\")\n",
        "else:\n",
        "  print(\"Гипотеза не принимается\")\n",
        "\n",
        "q, psi"
      ]
    }
  ],
  "metadata": {
    "colab": {
      "collapsed_sections": [],
      "provenance": [],
      "authorship_tag": "ABX9TyNh13NnyPFs1JmSQ244Xzn3",
      "include_colab_link": true
    },
    "kernelspec": {
      "display_name": "Python 3",
      "name": "python3"
    },
    "language_info": {
      "name": "python"
    },
    "widgets": {
      "application/vnd.jupyter.widget-state+json": {
        "3fe38faef82e4c2e82b71eb7f3e40aeb": {
          "model_module": "jupyter-matplotlib",
          "model_name": "MPLCanvasModel",
          "model_module_version": "^0.11",
          "state": {
            "_cursor": "pointer",
            "_data_url": "data:image/png;base64,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",
            "_dom_classes": [],
            "_figure_label": "Figure",
            "_image_mode": "full",
            "_message": "",
            "_model_module": "jupyter-matplotlib",
            "_model_module_version": "^0.11",
            "_model_name": "MPLCanvasModel",
            "_rubberband_height": 0,
            "_rubberband_width": 0,
            "_rubberband_x": 0,
            "_rubberband_y": 0,
            "_size": [
              432,
              288
            ],
            "_view_count": null,
            "_view_module": "jupyter-matplotlib",
            "_view_module_version": "^0.11",
            "_view_name": "MPLCanvasView",
            "capture_scroll": false,
            "footer_visible": true,
            "header_visible": true,
            "layout": "IPY_MODEL_734540f1f20d4211b4698c5918b9f134",
            "pan_zoom_throttle": 33,
            "resizable": true,
            "toolbar": "IPY_MODEL_025b3f9f54a54434a1c79a330f8bb68c",
            "toolbar_position": "left",
            "toolbar_visible": "fade-in-fade-out"
          }
        },
        "734540f1f20d4211b4698c5918b9f134": {
          "model_module": "@jupyter-widgets/base",
          "model_name": "LayoutModel",
          "model_module_version": "1.2.0",
          "state": {
            "_model_module": "@jupyter-widgets/base",
            "_model_module_version": "1.2.0",
            "_model_name": "LayoutModel",
            "_view_count": null,
            "_view_module": "@jupyter-widgets/base",
            "_view_module_version": "1.2.0",
            "_view_name": "LayoutView",
            "align_content": null,
            "align_items": null,
            "align_self": null,
            "border": null,
            "bottom": null,
            "display": null,
            "flex": null,
            "flex_flow": null,
            "grid_area": null,
            "grid_auto_columns": null,
            "grid_auto_flow": null,
            "grid_auto_rows": null,
            "grid_column": null,
            "grid_gap": null,
            "grid_row": null,
            "grid_template_areas": null,
            "grid_template_columns": null,
            "grid_template_rows": null,
            "height": null,
            "justify_content": null,
            "justify_items": null,
            "left": null,
            "margin": null,
            "max_height": null,
            "max_width": null,
            "min_height": null,
            "min_width": null,
            "object_fit": null,
            "object_position": null,
            "order": null,
            "overflow": null,
            "overflow_x": null,
            "overflow_y": null,
            "padding": null,
            "right": null,
            "top": null,
            "visibility": null,
            "width": null
          }
        },
        "025b3f9f54a54434a1c79a330f8bb68c": {
          "model_module": "jupyter-matplotlib",
          "model_name": "ToolbarModel",
          "model_module_version": "^0.11",
          "state": {
            "_current_action": "",
            "_dom_classes": [],
            "_model_module": "jupyter-matplotlib",
            "_model_module_version": "^0.11",
            "_model_name": "ToolbarModel",
            "_view_count": null,
            "_view_module": "jupyter-matplotlib",
            "_view_module_version": "^0.11",
            "_view_name": "ToolbarView",
            "button_style": "",
            "collapsed": true,
            "layout": "IPY_MODEL_d8e28b9b94a54f8a94752305f067838b",
            "orientation": "vertical",
            "toolitems": [
              [
                "Home",
                "Reset original view",
                "home",
                "home"
              ],
              [
                "Back",
                "Back to previous view",
                "arrow-left",
                "back"
              ],
              [
                "Forward",
                "Forward to next view",
                "arrow-right",
                "forward"
              ],
              [
                "Pan",
                "Left button pans, Right button zooms\nx/y fixes axis, CTRL fixes aspect",
                "arrows",
                "pan"
              ],
              [
                "Zoom",
                "Zoom to rectangle\nx/y fixes axis",
                "square-o",
                "zoom"
              ],
              [
                "Download",
                "Download plot",
                "floppy-o",
                "save_figure"
              ]
            ]
          }
        },
        "d8e28b9b94a54f8a94752305f067838b": {
          "model_module": "@jupyter-widgets/base",
          "model_name": "LayoutModel",
          "model_module_version": "1.2.0",
          "state": {
            "_model_module": "@jupyter-widgets/base",
            "_model_module_version": "1.2.0",
            "_model_name": "LayoutModel",
            "_view_count": null,
            "_view_module": "@jupyter-widgets/base",
            "_view_module_version": "1.2.0",
            "_view_name": "LayoutView",
            "align_content": null,
            "align_items": null,
            "align_self": null,
            "border": null,
            "bottom": null,
            "display": null,
            "flex": null,
            "flex_flow": null,
            "grid_area": null,
            "grid_auto_columns": null,
            "grid_auto_flow": null,
            "grid_auto_rows": null,
            "grid_column": null,
            "grid_gap": null,
            "grid_row": null,
            "grid_template_areas": null,
            "grid_template_columns": null,
            "grid_template_rows": null,
            "height": null,
            "justify_content": null,
            "justify_items": null,
            "left": null,
            "margin": null,
            "max_height": null,
            "max_width": null,
            "min_height": null,
            "min_width": null,
            "object_fit": null,
            "object_position": null,
            "order": null,
            "overflow": null,
            "overflow_x": null,
            "overflow_y": null,
            "padding": null,
            "right": null,
            "top": null,
            "visibility": null,
            "width": null
          }
        },
        "af5254ac53ee427aa38c0cea61ac7b2f": {
          "model_module": "@jupyter-widgets/base",
          "model_name": "LayoutModel",
          "model_module_version": "1.2.0",
          "state": {
            "_model_module": "@jupyter-widgets/base",
            "_model_module_version": "1.2.0",
            "_model_name": "LayoutModel",
            "_view_count": null,
            "_view_module": "@jupyter-widgets/base",
            "_view_module_version": "1.2.0",
            "_view_name": "LayoutView",
            "align_content": null,
            "align_items": null,
            "align_self": null,
            "border": null,
            "bottom": null,
            "display": null,
            "flex": null,
            "flex_flow": null,
            "grid_area": null,
            "grid_auto_columns": null,
            "grid_auto_flow": null,
            "grid_auto_rows": null,
            "grid_column": null,
            "grid_gap": null,
            "grid_row": null,
            "grid_template_areas": null,
            "grid_template_columns": null,
            "grid_template_rows": null,
            "height": null,
            "justify_content": null,
            "justify_items": null,
            "left": null,
            "margin": null,
            "max_height": null,
            "max_width": null,
            "min_height": null,
            "min_width": null,
            "object_fit": null,
            "object_position": null,
            "order": null,
            "overflow": null,
            "overflow_x": null,
            "overflow_y": null,
            "padding": null,
            "right": null,
            "top": null,
            "visibility": null,
            "width": null
          }
        },
        "e1c26855f0084298aba286fc3793f45f": {
          "model_module": "jupyter-matplotlib",
          "model_name": "ToolbarModel",
          "model_module_version": "^0.11",
          "state": {
            "_current_action": "",
            "_dom_classes": [],
            "_model_module": "jupyter-matplotlib",
            "_model_module_version": "^0.11",
            "_model_name": "ToolbarModel",
            "_view_count": null,
            "_view_module": "jupyter-matplotlib",
            "_view_module_version": "^0.11",
            "_view_name": "ToolbarView",
            "button_style": "",
            "collapsed": true,
            "layout": "IPY_MODEL_af5254ac53ee427aa38c0cea61ac7b2f",
            "orientation": "vertical",
            "toolitems": [
              [
                "Home",
                "Reset original view",
                "home",
                "home"
              ],
              [
                "Back",
                "Back to previous view",
                "arrow-left",
                "back"
              ],
              [
                "Forward",
                "Forward to next view",
                "arrow-right",
                "forward"
              ],
              [
                "Pan",
                "Left button pans, Right button zooms\nx/y fixes axis, CTRL fixes aspect",
                "arrows",
                "pan"
              ],
              [
                "Zoom",
                "Zoom to rectangle\nx/y fixes axis",
                "square-o",
                "zoom"
              ],
              [
                "Download",
                "Download plot",
                "floppy-o",
                "save_figure"
              ]
            ]
          }
        },
        "68651148a5b64b15a2aeae6d639575fb": {
          "model_module": "jupyter-matplotlib",
          "model_name": "MPLCanvasModel",
          "model_module_version": "^0.11",
          "state": {
            "_cursor": "pointer",
            "_data_url": "data:image/png;base64,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",
            "_dom_classes": [],
            "_figure_label": "Figure",
            "_image_mode": "full",
            "_message": "",
            "_model_module": "jupyter-matplotlib",
            "_model_module_version": "^0.11",
            "_model_name": "MPLCanvasModel",
            "_rubberband_height": 0,
            "_rubberband_width": 0,
            "_rubberband_x": 0,
            "_rubberband_y": 0,
            "_size": [
              432,
              288
            ],
            "_view_count": null,
            "_view_module": "jupyter-matplotlib",
            "_view_module_version": "^0.11",
            "_view_name": "MPLCanvasView",
            "capture_scroll": false,
            "footer_visible": true,
            "header_visible": true,
            "layout": "IPY_MODEL_a176eecb0c5d4e6196793353e2b51ac3",
            "pan_zoom_throttle": 33,
            "resizable": true,
            "toolbar": "IPY_MODEL_5658fdf90c38478e82f977e098c82824",
            "toolbar_position": "left",
            "toolbar_visible": "fade-in-fade-out"
          }
        },
        "a176eecb0c5d4e6196793353e2b51ac3": {
          "model_module": "@jupyter-widgets/base",
          "model_name": "LayoutModel",
          "model_module_version": "1.2.0",
          "state": {
            "_model_module": "@jupyter-widgets/base",
            "_model_module_version": "1.2.0",
            "_model_name": "LayoutModel",
            "_view_count": null,
            "_view_module": "@jupyter-widgets/base",
            "_view_module_version": "1.2.0",
            "_view_name": "LayoutView",
            "align_content": null,
            "align_items": null,
            "align_self": null,
            "border": null,
            "bottom": null,
            "display": null,
            "flex": null,
            "flex_flow": null,
            "grid_area": null,
            "grid_auto_columns": null,
            "grid_auto_flow": null,
            "grid_auto_rows": null,
            "grid_column": null,
            "grid_gap": null,
            "grid_row": null,
            "grid_template_areas": null,
            "grid_template_columns": null,
            "grid_template_rows": null,
            "height": null,
            "justify_content": null,
            "justify_items": null,
            "left": null,
            "margin": null,
            "max_height": null,
            "max_width": null,
            "min_height": null,
            "min_width": null,
            "object_fit": null,
            "object_position": null,
            "order": null,
            "overflow": null,
            "overflow_x": null,
            "overflow_y": null,
            "padding": null,
            "right": null,
            "top": null,
            "visibility": null,
            "width": null
          }
        },
        "5658fdf90c38478e82f977e098c82824": {
          "model_module": "jupyter-matplotlib",
          "model_name": "ToolbarModel",
          "model_module_version": "^0.11",
          "state": {
            "_current_action": "",
            "_dom_classes": [],
            "_model_module": "jupyter-matplotlib",
            "_model_module_version": "^0.11",
            "_model_name": "ToolbarModel",
            "_view_count": null,
            "_view_module": "jupyter-matplotlib",
            "_view_module_version": "^0.11",
            "_view_name": "ToolbarView",
            "button_style": "",
            "collapsed": true,
            "layout": "IPY_MODEL_c6c05620115d414a8c94f0b7ea53b1eb",
            "orientation": "vertical",
            "toolitems": [
              [
                "Home",
                "Reset original view",
                "home",
                "home"
              ],
              [
                "Back",
                "Back to previous view",
                "arrow-left",
                "back"
              ],
              [
                "Forward",
                "Forward to next view",
                "arrow-right",
                "forward"
              ],
              [
                "Pan",
                "Left button pans, Right button zooms\nx/y fixes axis, CTRL fixes aspect",
                "arrows",
                "pan"
              ],
              [
                "Zoom",
                "Zoom to rectangle\nx/y fixes axis",
                "square-o",
                "zoom"
              ],
              [
                "Download",
                "Download plot",
                "floppy-o",
                "save_figure"
              ]
            ]
          }
        },
        "c6c05620115d414a8c94f0b7ea53b1eb": {
          "model_module": "@jupyter-widgets/base",
          "model_name": "LayoutModel",
          "model_module_version": "1.2.0",
          "state": {
            "_model_module": "@jupyter-widgets/base",
            "_model_module_version": "1.2.0",
            "_model_name": "LayoutModel",
            "_view_count": null,
            "_view_module": "@jupyter-widgets/base",
            "_view_module_version": "1.2.0",
            "_view_name": "LayoutView",
            "align_content": null,
            "align_items": null,
            "align_self": null,
            "border": null,
            "bottom": null,
            "display": null,
            "flex": null,
            "flex_flow": null,
            "grid_area": null,
            "grid_auto_columns": null,
            "grid_auto_flow": null,
            "grid_auto_rows": null,
            "grid_column": null,
            "grid_gap": null,
            "grid_row": null,
            "grid_template_areas": null,
            "grid_template_columns": null,
            "grid_template_rows": null,
            "height": null,
            "justify_content": null,
            "justify_items": null,
            "left": null,
            "margin": null,
            "max_height": null,
            "max_width": null,
            "min_height": null,
            "min_width": null,
            "object_fit": null,
            "object_position": null,
            "order": null,
            "overflow": null,
            "overflow_x": null,
            "overflow_y": null,
            "padding": null,
            "right": null,
            "top": null,
            "visibility": null,
            "width": null
          }
        },
        "1ffede64738f41ba809d19b3ad101d0f": {
          "model_module": "jupyter-matplotlib",
          "model_name": "MPLCanvasModel",
          "model_module_version": "^0.11",
          "state": {
            "_cursor": "default",
            "_data_url": "data:image/png;base64,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",
            "_dom_classes": [],
            "_figure_label": "Figure 1",
            "_image_mode": "full",
            "_message": "",
            "_model_module": "jupyter-matplotlib",
            "_model_module_version": "^0.11",
            "_model_name": "MPLCanvasModel",
            "_rubberband_height": 0,
            "_rubberband_width": 0,
            "_rubberband_x": 0,
            "_rubberband_y": 0,
            "_size": [
              432,
              288
            ],
            "_view_count": null,
            "_view_module": "jupyter-matplotlib",
            "_view_module_version": "^0.11",
            "_view_name": "MPLCanvasView",
            "capture_scroll": false,
            "footer_visible": true,
            "header_visible": true,
            "layout": "IPY_MODEL_648daf8a68c64c5a8bdfc4c2e8378035",
            "pan_zoom_throttle": 33,
            "resizable": true,
            "toolbar": "IPY_MODEL_67ec95ebc601497b80aab96e4e4117f8",
            "toolbar_position": "left",
            "toolbar_visible": "fade-in-fade-out"
          }
        },
        "648daf8a68c64c5a8bdfc4c2e8378035": {
          "model_module": "@jupyter-widgets/base",
          "model_name": "LayoutModel",
          "model_module_version": "1.2.0",
          "state": {
            "_model_module": "@jupyter-widgets/base",
            "_model_module_version": "1.2.0",
            "_model_name": "LayoutModel",
            "_view_count": null,
            "_view_module": "@jupyter-widgets/base",
            "_view_module_version": "1.2.0",
            "_view_name": "LayoutView",
            "align_content": null,
            "align_items": null,
            "align_self": null,
            "border": null,
            "bottom": null,
            "display": null,
            "flex": null,
            "flex_flow": null,
            "grid_area": null,
            "grid_auto_columns": null,
            "grid_auto_flow": null,
            "grid_auto_rows": null,
            "grid_column": null,
            "grid_gap": null,
            "grid_row": null,
            "grid_template_areas": null,
            "grid_template_columns": null,
            "grid_template_rows": null,
            "height": null,
            "justify_content": null,
            "justify_items": null,
            "left": null,
            "margin": null,
            "max_height": null,
            "max_width": null,
            "min_height": null,
            "min_width": null,
            "object_fit": null,
            "object_position": null,
            "order": null,
            "overflow": null,
            "overflow_x": null,
            "overflow_y": null,
            "padding": null,
            "right": null,
            "top": null,
            "visibility": null,
            "width": null
          }
        },
        "67ec95ebc601497b80aab96e4e4117f8": {
          "model_module": "jupyter-matplotlib",
          "model_name": "ToolbarModel",
          "model_module_version": "^0.11",
          "state": {
            "_current_action": "",
            "_dom_classes": [],
            "_model_module": "jupyter-matplotlib",
            "_model_module_version": "^0.11",
            "_model_name": "ToolbarModel",
            "_view_count": null,
            "_view_module": "jupyter-matplotlib",
            "_view_module_version": "^0.11",
            "_view_name": "ToolbarView",
            "button_style": "",
            "collapsed": true,
            "layout": "IPY_MODEL_18f114893d2e4b7f8fe0e6803fbfd8a2",
            "orientation": "vertical",
            "toolitems": [
              [
                "Home",
                "Reset original view",
                "home",
                "home"
              ],
              [
                "Back",
                "Back to previous view",
                "arrow-left",
                "back"
              ],
              [
                "Forward",
                "Forward to next view",
                "arrow-right",
                "forward"
              ],
              [
                "Pan",
                "Left button pans, Right button zooms\nx/y fixes axis, CTRL fixes aspect",
                "arrows",
                "pan"
              ],
              [
                "Zoom",
                "Zoom to rectangle\nx/y fixes axis",
                "square-o",
                "zoom"
              ],
              [
                "Download",
                "Download plot",
                "floppy-o",
                "save_figure"
              ]
            ]
          }
        },
        "18f114893d2e4b7f8fe0e6803fbfd8a2": {
          "model_module": "@jupyter-widgets/base",
          "model_name": "LayoutModel",
          "model_module_version": "1.2.0",
          "state": {
            "_model_module": "@jupyter-widgets/base",
            "_model_module_version": "1.2.0",
            "_model_name": "LayoutModel",
            "_view_count": null,
            "_view_module": "@jupyter-widgets/base",
            "_view_module_version": "1.2.0",
            "_view_name": "LayoutView",
            "align_content": null,
            "align_items": null,
            "align_self": null,
            "border": null,
            "bottom": null,
            "display": null,
            "flex": null,
            "flex_flow": null,
            "grid_area": null,
            "grid_auto_columns": null,
            "grid_auto_flow": null,
            "grid_auto_rows": null,
            "grid_column": null,
            "grid_gap": null,
            "grid_row": null,
            "grid_template_areas": null,
            "grid_template_columns": null,
            "grid_template_rows": null,
            "height": null,
            "justify_content": null,
            "justify_items": null,
            "left": null,
            "margin": null,
            "max_height": null,
            "max_width": null,
            "min_height": null,
            "min_width": null,
            "object_fit": null,
            "object_position": null,
            "order": null,
            "overflow": null,
            "overflow_x": null,
            "overflow_y": null,
            "padding": null,
            "right": null,
            "top": null,
            "visibility": null,
            "width": null
          }
        },
        "67bb5f704642446197822217daf0e223": {
          "model_module": "@jupyter-widgets/base",
          "model_name": "LayoutModel",
          "model_module_version": "1.2.0",
          "state": {
            "_model_module": "@jupyter-widgets/base",
            "_model_module_version": "1.2.0",
            "_model_name": "LayoutModel",
            "_view_count": null,
            "_view_module": "@jupyter-widgets/base",
            "_view_module_version": "1.2.0",
            "_view_name": "LayoutView",
            "align_content": null,
            "align_items": null,
            "align_self": null,
            "border": null,
            "bottom": null,
            "display": null,
            "flex": null,
            "flex_flow": null,
            "grid_area": null,
            "grid_auto_columns": null,
            "grid_auto_flow": null,
            "grid_auto_rows": null,
            "grid_column": null,
            "grid_gap": null,
            "grid_row": null,
            "grid_template_areas": null,
            "grid_template_columns": null,
            "grid_template_rows": null,
            "height": null,
            "justify_content": null,
            "justify_items": null,
            "left": null,
            "margin": null,
            "max_height": null,
            "max_width": null,
            "min_height": null,
            "min_width": null,
            "object_fit": null,
            "object_position": null,
            "order": null,
            "overflow": null,
            "overflow_x": null,
            "overflow_y": null,
            "padding": null,
            "right": null,
            "top": null,
            "visibility": null,
            "width": null
          }
        },
        "f0b82fdffe6c48ddb773bb6aebb1901d": {
          "model_module": "jupyter-matplotlib",
          "model_name": "ToolbarModel",
          "model_module_version": "^0.11",
          "state": {
            "_current_action": "",
            "_dom_classes": [],
            "_model_module": "jupyter-matplotlib",
            "_model_module_version": "^0.11",
            "_model_name": "ToolbarModel",
            "_view_count": null,
            "_view_module": "jupyter-matplotlib",
            "_view_module_version": "^0.11",
            "_view_name": "ToolbarView",
            "button_style": "",
            "collapsed": true,
            "layout": "IPY_MODEL_67bb5f704642446197822217daf0e223",
            "orientation": "vertical",
            "toolitems": [
              [
                "Home",
                "Reset original view",
                "home",
                "home"
              ],
              [
                "Back",
                "Back to previous view",
                "arrow-left",
                "back"
              ],
              [
                "Forward",
                "Forward to next view",
                "arrow-right",
                "forward"
              ],
              [
                "Pan",
                "Left button pans, Right button zooms\nx/y fixes axis, CTRL fixes aspect",
                "arrows",
                "pan"
              ],
              [
                "Zoom",
                "Zoom to rectangle\nx/y fixes axis",
                "square-o",
                "zoom"
              ],
              [
                "Download",
                "Download plot",
                "floppy-o",
                "save_figure"
              ]
            ]
          }
        }
      }
    }
  },
  "nbformat": 4,
  "nbformat_minor": 0
}